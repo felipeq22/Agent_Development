{
 "cells": [
  {
   "cell_type": "markdown",
   "metadata": {},
   "source": [
    "## Reading HTML file with Langchain and Google"
   ]
  },
  {
   "cell_type": "markdown",
   "metadata": {},
   "source": [
    "### Installing Required Libraries"
   ]
  },
  {
   "cell_type": "code",
   "execution_count": 13,
   "metadata": {},
   "outputs": [],
   "source": [
    "#!pip install -U langchain-google-genai\n",
    "#!pip install -U langchain\n",
    "#!pip install langchain-community"
   ]
  },
  {
   "cell_type": "code",
   "execution_count": 4,
   "metadata": {},
   "outputs": [],
   "source": [
    "import os\n",
    "\n",
    "from dotenv import load_dotenv, find_dotenv\n",
    "_ = load_dotenv(find_dotenv('langchain1_llmapp/api_key.env')) # read local .env file\n",
    "google_key = os.environ['GOOGLE_API_KEY']"
   ]
  },
  {
   "cell_type": "markdown",
   "metadata": {},
   "source": [
    "### Loading DEU session 20 of parliament members"
   ]
  },
  {
   "cell_type": "markdown",
   "metadata": {},
   "source": [
    "##### Cleaning the HTML file"
   ]
  },
  {
   "cell_type": "code",
   "execution_count": 11,
   "metadata": {},
   "outputs": [],
   "source": [
    "from bs4 import BeautifulSoup\n",
    "from langchain.docstore.document import Document\n",
    "\n",
    "file_path = 'data/20_session_DEU.html'\n",
    "with open(file_path, 'r', encoding='utf-8') as f:\n",
    "    html = f.read()\n",
    "\n",
    "soup = BeautifulSoup(html, 'html.parser')\n",
    "\n",
    "tables = soup.find_all('table')\n",
    "\n",
    "# Create documents from tables\n",
    "documents = []\n",
    "for idx, table in enumerate(tables, start=1):\n",
    "    table_text = table.get_text(separator=' ', strip=True)\n",
    "    doc = Document(\n",
    "        page_content=table_text,\n",
    "        metadata={\"table_index\": idx}\n",
    "    )\n",
    "    documents.append(doc)"
   ]
  },
  {
   "cell_type": "markdown",
   "metadata": {},
   "source": [
    "from langchain_community.document_loaders import BSHTMLLoader\n",
    "\n",
    "file_path = 'data/20_session_DEU.html'\n",
    "loader = BSHTMLLoader(file_path)\n",
    "data = loader.load()\n",
    "\n",
    "print(data)"
   ]
  },
  {
   "cell_type": "markdown",
   "metadata": {},
   "source": [
    "## Step by step"
   ]
  },
  {
   "cell_type": "markdown",
   "metadata": {},
   "source": [
    "### Creating an Embedding Model"
   ]
  },
  {
   "cell_type": "code",
   "execution_count": 5,
   "metadata": {},
   "outputs": [],
   "source": [
    "from langchain_google_genai import GoogleGenerativeAIEmbeddings\n",
    "\n",
    "embedding_model = GoogleGenerativeAIEmbeddings(model=\"models/embedding-001\")"
   ]
  },
  {
   "cell_type": "markdown",
   "metadata": {},
   "source": [
    "#### Creating an Index"
   ]
  },
  {
   "cell_type": "code",
   "execution_count": null,
   "metadata": {},
   "outputs": [],
   "source": [
    "from langchain.vectorstores import DocArrayInMemorySearch\n",
    "from langchain.indexes import VectorstoreIndexCreator\n",
    "\n",
    "\n",
    "vectorstore = DocArrayInMemorySearch.from_documents(documents, embedding_model)"
   ]
  },
  {
   "cell_type": "markdown",
   "metadata": {},
   "source": [
    "#### Querying the index to pass to the LLM"
   ]
  },
  {
   "cell_type": "code",
   "execution_count": 15,
   "metadata": {},
   "outputs": [
    {
     "ename": "NameError",
     "evalue": "name 'index' is not defined",
     "output_type": "error",
     "traceback": [
      "\u001b[0;31m---------------------------------------------------------------------------\u001b[0m",
      "\u001b[0;31mNameError\u001b[0m                                 Traceback (most recent call last)",
      "Cell \u001b[0;32mIn[15], line 6\u001b[0m\n\u001b[1;32m      3\u001b[0m query \u001b[38;5;241m=\u001b[39m \u001b[38;5;124m\"\u001b[39m\u001b[38;5;124mList all members of the German Bundestag. Retrieve what you can, it doesn´t have to be perfect. Make it in a table format\u001b[39m\u001b[38;5;124m\"\u001b[39m\n\u001b[1;32m      4\u001b[0m llm \u001b[38;5;241m=\u001b[39m ChatGoogleGenerativeAI(model\u001b[38;5;241m=\u001b[39m\u001b[38;5;124m\"\u001b[39m\u001b[38;5;124mgemini-1.5-pro\u001b[39m\u001b[38;5;124m\"\u001b[39m,temperature\u001b[38;5;241m=\u001b[39m\u001b[38;5;241m0\u001b[39m)\n\u001b[0;32m----> 6\u001b[0m response \u001b[38;5;241m=\u001b[39m \u001b[43mindex\u001b[49m\u001b[38;5;241m.\u001b[39mquery(query, llm \u001b[38;5;241m=\u001b[39m llm)\n",
      "\u001b[0;31mNameError\u001b[0m: name 'index' is not defined"
     ]
    }
   ],
   "source": [
    "from langchain_google_genai import ChatGoogleGenerativeAI\n",
    "\n",
    "query = \"List all members of the German Bundestag. Retrieve what you can, it doesn´t have to be perfect. Make it in a table format\"\n",
    "llm = ChatGoogleGenerativeAI(model=\"gemini-1.5-pro\",temperature=0)\n",
    "\n",
    "response = index.query(query, llm = llm)"
   ]
  },
  {
   "cell_type": "code",
   "execution_count": 19,
   "metadata": {},
   "outputs": [
    {
     "name": "stdout",
     "output_type": "stream",
     "text": [
      "I cannot directly access and display real-time data like the current members of the German Bundestag.  This kind of information changes frequently (due to elections, resignations, etc.) and requires a live, updated data source.\n",
      "\n",
      "To get the most up-to-date list, I recommend checking the official website of the German Bundestag (www.bundestag.de).  They usually have a searchable database of their members with the information you're looking for (name, party, constituency).\n",
      "\n",
      "Alternatively, you could try other reputable sources like German news organizations or parliamentary monitoring websites.  These often publish and maintain lists of current members of parliament.\n",
      "\n",
      "\n",
      "If you have a static dataset (like a CSV file) of Bundestag members, I can help you format it into a table.  Just provide the data, and I'll do my best to present it clearly.\n"
     ]
    }
   ],
   "source": [
    "from langchain_google_genai import ChatGoogleGenerativeAI\n",
    "from langchain_core.prompts import ChatPromptTemplate\n",
    "\n",
    "# Initialize the LLM\n",
    "llm = ChatGoogleGenerativeAI(model=\"gemini-1.5-pro\", temperature=0)\n",
    "\n",
    "prompt = ChatPromptTemplate.from_template(\n",
    "    \"List all members of the current German Bundestag in a table format with columns: \"\n",
    "    \"Name, Political Party, Constituency. Retrieve what you can, it doesn't have to be perfect.\"\n",
    ")\n",
    "\n",
    "# Create a simple chain\n",
    "chain = prompt | llm\n",
    "\n",
    "# Invoke the chain\n",
    "response = chain.invoke({})\n",
    "\n",
    "print(response.content)"
   ]
  },
  {
   "cell_type": "code",
   "execution_count": 50,
   "metadata": {},
   "outputs": [
    {
     "data": {
      "text/markdown": [
       "I can provide a partial list of members, along with some additional information, but the table in the Wikipedia article is incomplete and I cannot generate a full list of all 733 members.  I also cannot reliably extract every name even from the partial table due to formatting inconsistencies.\n",
       "\n",
       "| Faction/Group | Party | Members (Partial List) |\n",
       "|---|---|---|\n",
       "| SPD | SPD | Fahimi, Keller, Mohrs, Maas, Philippi, Kiziltepe, Gremmels, Mansoori, Trăsnea, Grötsch, Mehmet Ali, De Ridder, Rinkert, Bartz, Vontz, Mende, Trăsnea, Lutze, Ruf, Rabanus, Hohmann, Schanbacher |\n",
       "| CDU/CSU | CDU/CSU | Altmaier, Kramp-Karrenbauer, Storjohann, Hennrich, Schäuble, Berghegger, Jung, Schwarz, Stöcker, Schön, Uhl, Bernstein, Föhr, Pahlmann, Kaufmann, Mannes, Wiesmann, Wellenreuther, Sekmen, Scheuer, Müller |\n",
       "| Bündnis 90/Die Grünen |  | Krischer, Trittin, Kühn, Stahr, Sekmen, Rottmann, Aeffner, Sacher, von Holtz, Kretz, Krumwiede-Steiner, Kekeritz |\n",
       "| Die Linke (Gruppe) | Die Linke | Amira Mohamed Ali, Dietmar Bartsch, Susanne Ferschl, Gesine Lötzsch, Nicole Gohlke, Ali Al-Dailami, Jan Korte, Sahra Wagenknecht, Klaus Ernst, Jessica Tatti, Christian Görke, Heidi Reichinnek, Sören Pellmann |\n",
       "| BSW (Gruppe) |  |  (No names listed in the provided excerpt) |\n",
       "\n",
       "\n",
       "**Presidium (Leadership):**\n",
       "\n",
       "* **President:** Bärbel Bas (SPD)\n",
       "* **Vice Presidents:** Aydan Özoğuz (SPD), Yvonne Magwas (CDU), Katrin Göring-Eckardt (Grüne), Wolfgang Kubicki (FDP), Petra Pau (Linke), *[Open position for AfD]*\n",
       "* **Elder President (Alterspräsident):** Wolfgang Schäuble (CDU)\n",
       "\n",
       "\n",
       "This is not a complete list of Bundestag members. The Wikipedia article from which this information is taken is itself incomplete.  It is best to consult the official Bundestag website for a definitive list."
      ],
      "text/plain": [
       "<IPython.core.display.Markdown object>"
      ]
     },
     "metadata": {},
     "output_type": "display_data"
    }
   ],
   "source": [
    "from IPython.display import display, Markdown\n",
    "\n",
    "display(Markdown(response))"
   ]
  }
 ],
 "metadata": {
  "kernelspec": {
   "display_name": "langchain",
   "language": "python",
   "name": "python3"
  },
  "language_info": {
   "codemirror_mode": {
    "name": "ipython",
    "version": 3
   },
   "file_extension": ".py",
   "mimetype": "text/x-python",
   "name": "python",
   "nbconvert_exporter": "python",
   "pygments_lexer": "ipython3",
   "version": "3.12.2"
  }
 },
 "nbformat": 4,
 "nbformat_minor": 2
}
