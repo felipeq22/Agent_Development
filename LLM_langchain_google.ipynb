{
 "cells": [
  {
   "cell_type": "markdown",
   "metadata": {},
   "source": [
    "## Reading HTML file with Langchain and Google"
   ]
  },
  {
   "cell_type": "markdown",
   "metadata": {},
   "source": [
    "### Installing Required Libraries"
   ]
  },
  {
   "cell_type": "code",
   "execution_count": 20,
   "metadata": {},
   "outputs": [],
   "source": [
    "#!pip install -q langchain-google-genai\n",
    "#!pip install -q bs4\n",
    "#!pip uninstall openai -y\n",
    "#!pip install -q langchain-community\n",
    "#!pip install -q bs4\n",
    "#!pip install langchain-google-genai\n",
    "#!pip install pydantic==2.8.2\n",
    "#!pip install -q lxml\n",
    "#!pip install docarray"
   ]
  },
  {
   "cell_type": "code",
   "execution_count": 1,
   "metadata": {},
   "outputs": [],
   "source": [
    "import os\n",
    "\n",
    "from dotenv import load_dotenv, find_dotenv\n",
    "_ = load_dotenv(find_dotenv('langchain1_llmapp/api_key.env')) # read local .env file\n",
    "google_key = os.environ['GOOGLE_API_KEY']"
   ]
  },
  {
   "cell_type": "markdown",
   "metadata": {},
   "source": [
    "### Loading DEU session 20 of parliament members"
   ]
  },
  {
   "cell_type": "markdown",
   "metadata": {},
   "source": [
    "##### Cleaning the HTML file"
   ]
  },
  {
   "cell_type": "code",
   "execution_count": 53,
   "metadata": {},
   "outputs": [],
   "source": [
    "from bs4 import BeautifulSoup\n",
    "from langchain.docstore.document import Document\n",
    "\n",
    "file_path = 'data/20_session_DEU.html'\n",
    "with open(file_path, 'r', encoding='utf-8') as f:\n",
    "    html = f.read()\n",
    "\n",
    "soup = BeautifulSoup(html, 'html.parser')\n",
    "\n",
    "tables = soup.find_all('table')\n",
    "\n",
    "# Create documents from tables\n",
    "documents = []\n",
    "for idx, table in enumerate(tables, start=1):\n",
    "    table_text = table.get_text(separator=' ', strip=True)\n",
    "    doc = Document(\n",
    "        page_content=table_text,\n",
    "        metadata={\"table_index\": idx}\n",
    "    )\n",
    "    documents.append(doc)\n"
   ]
  },
  {
   "cell_type": "markdown",
   "metadata": {},
   "source": [
    "from langchain_community.document_loaders import BSHTMLLoader\n",
    "\n",
    "file_path = 'data/20_session_DEU.html'\n",
    "loader = BSHTMLLoader(file_path)\n",
    "data = loader.load()\n",
    "\n",
    "print(data)"
   ]
  },
  {
   "cell_type": "markdown",
   "metadata": {},
   "source": [
    "## Step by step"
   ]
  },
  {
   "cell_type": "markdown",
   "metadata": {},
   "source": [
    "### Creating an Embedding Model"
   ]
  },
  {
   "cell_type": "code",
   "execution_count": 55,
   "metadata": {},
   "outputs": [],
   "source": [
    "from langchain_google_genai import GoogleGenerativeAIEmbeddings\n",
    "\n",
    "embedding_model = GoogleGenerativeAIEmbeddings(model=\"models/embedding-001\")"
   ]
  },
  {
   "cell_type": "markdown",
   "metadata": {},
   "source": [
    "#### Creating an Index"
   ]
  },
  {
   "cell_type": "code",
   "execution_count": 56,
   "metadata": {},
   "outputs": [],
   "source": [
    "from langchain.vectorstores import DocArrayInMemorySearch\n",
    "from langchain.indexes import VectorstoreIndexCreator\n",
    "\n",
    "\"\"\"\n",
    "index = VectorstoreIndexCreator(\n",
    "    vectorstore_cls=DocArrayInMemorySearch,\n",
    "    embedding=embedding_model\n",
    ").from_loaders([loader])\n",
    "\"\"\"\n",
    "\n",
    "vectorstore = DocArrayInMemorySearch.from_documents(documents, embedding_model)"
   ]
  },
  {
   "cell_type": "markdown",
   "metadata": {},
   "source": [
    "#### Querying the index to pass to the LLM"
   ]
  },
  {
   "cell_type": "code",
   "execution_count": 49,
   "metadata": {},
   "outputs": [],
   "source": [
    "from langchain_google_genai import ChatGoogleGenerativeAI\n",
    "\n",
    "query = \"List all members of the German Bundestag. Retrieve what you can, it doesn´t have to be perfect. Make it in a table format\"\n",
    "llm = ChatGoogleGenerativeAI(model=\"gemini-1.5-pro\",temperature=0)\n",
    "\n",
    "response = index.query(query, llm = llm)"
   ]
  },
  {
   "cell_type": "code",
   "execution_count": 50,
   "metadata": {},
   "outputs": [
    {
     "data": {
      "text/markdown": [
       "I can provide a partial list of members, along with some additional information, but the table in the Wikipedia article is incomplete and I cannot generate a full list of all 733 members.  I also cannot reliably extract every name even from the partial table due to formatting inconsistencies.\n",
       "\n",
       "| Faction/Group | Party | Members (Partial List) |\n",
       "|---|---|---|\n",
       "| SPD | SPD | Fahimi, Keller, Mohrs, Maas, Philippi, Kiziltepe, Gremmels, Mansoori, Trăsnea, Grötsch, Mehmet Ali, De Ridder, Rinkert, Bartz, Vontz, Mende, Trăsnea, Lutze, Ruf, Rabanus, Hohmann, Schanbacher |\n",
       "| CDU/CSU | CDU/CSU | Altmaier, Kramp-Karrenbauer, Storjohann, Hennrich, Schäuble, Berghegger, Jung, Schwarz, Stöcker, Schön, Uhl, Bernstein, Föhr, Pahlmann, Kaufmann, Mannes, Wiesmann, Wellenreuther, Sekmen, Scheuer, Müller |\n",
       "| Bündnis 90/Die Grünen |  | Krischer, Trittin, Kühn, Stahr, Sekmen, Rottmann, Aeffner, Sacher, von Holtz, Kretz, Krumwiede-Steiner, Kekeritz |\n",
       "| Die Linke (Gruppe) | Die Linke | Amira Mohamed Ali, Dietmar Bartsch, Susanne Ferschl, Gesine Lötzsch, Nicole Gohlke, Ali Al-Dailami, Jan Korte, Sahra Wagenknecht, Klaus Ernst, Jessica Tatti, Christian Görke, Heidi Reichinnek, Sören Pellmann |\n",
       "| BSW (Gruppe) |  |  (No names listed in the provided excerpt) |\n",
       "\n",
       "\n",
       "**Presidium (Leadership):**\n",
       "\n",
       "* **President:** Bärbel Bas (SPD)\n",
       "* **Vice Presidents:** Aydan Özoğuz (SPD), Yvonne Magwas (CDU), Katrin Göring-Eckardt (Grüne), Wolfgang Kubicki (FDP), Petra Pau (Linke), *[Open position for AfD]*\n",
       "* **Elder President (Alterspräsident):** Wolfgang Schäuble (CDU)\n",
       "\n",
       "\n",
       "This is not a complete list of Bundestag members. The Wikipedia article from which this information is taken is itself incomplete.  It is best to consult the official Bundestag website for a definitive list."
      ],
      "text/plain": [
       "<IPython.core.display.Markdown object>"
      ]
     },
     "metadata": {},
     "output_type": "display_data"
    }
   ],
   "source": [
    "from IPython.display import display, Markdown\n",
    "\n",
    "display(Markdown(response))"
   ]
  }
 ],
 "metadata": {
  "kernelspec": {
   "display_name": ".venv",
   "language": "python",
   "name": "python3"
  },
  "language_info": {
   "codemirror_mode": {
    "name": "ipython",
    "version": 3
   },
   "file_extension": ".py",
   "mimetype": "text/x-python",
   "name": "python",
   "nbconvert_exporter": "python",
   "pygments_lexer": "ipython3",
   "version": "3.12.2"
  }
 },
 "nbformat": 4,
 "nbformat_minor": 2
}
