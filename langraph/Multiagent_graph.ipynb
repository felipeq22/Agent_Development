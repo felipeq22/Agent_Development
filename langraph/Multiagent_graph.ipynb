{
 "cells": [
  {
   "cell_type": "markdown",
   "id": "878310e2",
   "metadata": {},
   "source": [
    "### Essaymaker Agent flow"
   ]
  },
  {
   "cell_type": "markdown",
   "id": "6d6c5a90",
   "metadata": {},
   "source": [
    "#### Initialize variables"
   ]
  },
  {
   "cell_type": "code",
   "execution_count": 4,
   "id": "082c53f5",
   "metadata": {},
   "outputs": [
    {
     "data": {
      "text/plain": [
       "True"
      ]
     },
     "execution_count": 4,
     "metadata": {},
     "output_type": "execute_result"
    }
   ],
   "source": [
    "from dotenv import load_dotenv, find_dotenv\n",
    "\n",
    "load_dotenv(find_dotenv('/Users/felipe_q/Desktop/AI_models/Agents/agent_venv/Agent_Development/langraph/credentials.env'))"
   ]
  },
  {
   "cell_type": "code",
   "execution_count": 14,
   "id": "b35a38f4",
   "metadata": {},
   "outputs": [],
   "source": [
    "from langgraph.graph import StateGraph, END\n",
    "from typing import TypedDict, Annotated, List\n",
    "import operator\n",
    "from langgraph.checkpoint.sqlite import SqliteSaver\n",
    "from langchain_core.messages import AnyMessage, SystemMessage, HumanMessage\n",
    "\n",
    "memory = SqliteSaver.from_conn_string(\":memory:\")"
   ]
  },
  {
   "cell_type": "markdown",
   "id": "73c5b866",
   "metadata": {},
   "source": [
    "### Initialize Agent class"
   ]
  }
 ],
 "metadata": {
  "kernelspec": {
   "display_name": "agent_venv",
   "language": "python",
   "name": "python3"
  },
  "language_info": {
   "codemirror_mode": {
    "name": "ipython",
    "version": 3
   },
   "file_extension": ".py",
   "mimetype": "text/x-python",
   "name": "python",
   "nbconvert_exporter": "python",
   "pygments_lexer": "ipython3",
   "version": "3.12.2"
  }
 },
 "nbformat": 4,
 "nbformat_minor": 5
}
