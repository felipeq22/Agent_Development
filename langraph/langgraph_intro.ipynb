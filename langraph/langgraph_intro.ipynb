{
 "cells": [
  {
   "cell_type": "markdown",
   "id": "6207d379",
   "metadata": {},
   "source": [
    "# Using Langraph to create Agents"
   ]
  },
  {
   "cell_type": "markdown",
   "id": "9f5e1062",
   "metadata": {},
   "source": [
    "### Using REACT Architecture (Reasoning + Acting)"
   ]
  },
  {
   "cell_type": "markdown",
   "id": "e4f14aae",
   "metadata": {},
   "source": [
    "REACT Architecture\n",
    "\n",
    "Thinks and then reacts and makes a decision about which action to do. The action is performed in an environment and it returns an observation. Then an observation is returned. With that observation the LLM then repeats and goes until the Agent decides when it is done."
   ]
  },
  {
   "cell_type": "code",
   "execution_count": 8,
   "id": "466634ac",
   "metadata": {},
   "outputs": [],
   "source": [
    "\n",
    "import openai\n",
    "import re\n",
    "import httpx\n",
    "import os\n",
    "from dotenv import load_dotenv, find_dotenv\n",
    "from openai import OpenAI\n",
    "\n",
    "_ = load_dotenv(find_dotenv('credentials.env'))"
   ]
  },
  {
   "cell_type": "markdown",
   "id": "9f447913",
   "metadata": {},
   "source": [
    "### Doing a easy example just to make sure that is working"
   ]
  },
  {
   "cell_type": "code",
   "execution_count": null,
   "id": "54a98f96",
   "metadata": {},
   "outputs": [],
   "source": [
    "client = OpenAI()\n",
    "\n",
    "chat_completion = client.chat.completions.create(\n",
    "\n",
    "    model = 'gpt-5-nano',\n",
    "    messages = [{'role': 'user', 'content': 'Hello world'}]\n",
    "\n",
    ")\n",
    "\n",
    "chat_completion.choices[0].message.content"
   ]
  },
  {
   "cell_type": "markdown",
   "id": "d798d91c",
   "metadata": {},
   "source": [
    "### Creating an Agent by a class"
   ]
  },
  {
   "cell_type": "code",
   "execution_count": null,
   "id": "7840de3c",
   "metadata": {},
   "outputs": [],
   "source": [
    "class Agent:\n",
    "\n",
    "    def __init__(self, system = \"\"):\n",
    "        self.system = system #This is the message from the user"
   ]
  }
 ],
 "metadata": {
  "kernelspec": {
   "display_name": "agent_venv",
   "language": "python",
   "name": "python3"
  },
  "language_info": {
   "codemirror_mode": {
    "name": "ipython",
    "version": 3
   },
   "file_extension": ".py",
   "mimetype": "text/x-python",
   "name": "python",
   "nbconvert_exporter": "python",
   "pygments_lexer": "ipython3",
   "version": "3.12.2"
  }
 },
 "nbformat": 4,
 "nbformat_minor": 5
}
