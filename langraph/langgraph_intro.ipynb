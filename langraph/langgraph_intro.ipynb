{
 "cells": [
  {
   "cell_type": "markdown",
   "id": "6207d379",
   "metadata": {},
   "source": [
    "# Using Langraph to create Agents"
   ]
  },
  {
   "cell_type": "markdown",
   "id": "9f5e1062",
   "metadata": {},
   "source": [
    "### Using REACT Architecture (Reasoning + Acting)"
   ]
  },
  {
   "cell_type": "markdown",
   "id": "e4f14aae",
   "metadata": {},
   "source": [
    "REACT Architecture\n",
    "\n",
    "Thinks and then reacts and makes a decision about which action to do. The action is performed in an environment and it returns an observation. Then an observation is returned. With that observation the LLM then repeats and goes until the Agent decides when it is done."
   ]
  },
  {
   "cell_type": "code",
   "execution_count": 8,
   "id": "466634ac",
   "metadata": {},
   "outputs": [],
   "source": [
    "\n",
    "import openai\n",
    "import re\n",
    "import httpx\n",
    "import os\n",
    "from dotenv import load_dotenv, find_dotenv\n",
    "from openai import OpenAI\n",
    "\n",
    "_ = load_dotenv(find_dotenv('credentials.env'))"
   ]
  },
  {
   "cell_type": "markdown",
   "id": "9f447913",
   "metadata": {},
   "source": [
    "### Doing a easy example just to make sure that is working"
   ]
  },
  {
   "cell_type": "code",
   "execution_count": null,
   "id": "54a98f96",
   "metadata": {},
   "outputs": [],
   "source": [
    "client = OpenAI()  \n",
    "\n",
    "chat_completion = client.chat.completions.create(\n",
    "\n",
    "    model = 'gpt-5-nano',\n",
    "    messages = [{'role': 'user', 'content': 'Hello world'}]\n",
    "\n",
    ")\n",
    "\n",
    "chat_completion.choices[0].message.content"
   ]
  },
  {
   "cell_type": "markdown",
   "id": "d798d91c",
   "metadata": {},
   "source": [
    "### Creating an Agent by a class"
   ]
  },
  {
   "cell_type": "code",
   "execution_count": 35,
   "id": "7840de3c",
   "metadata": {},
   "outputs": [],
   "source": [
    "class Agent:\n",
    "\n",
    "    def __init__(self, system = \"\"):\n",
    "        self.system = system #This is the message from the system\n",
    "        self.messages = [] #Here we're going to append the history of messages.\n",
    "        if self.system:\n",
    "            self.messages.append({'role': 'system', 'content':system})\n",
    "\n",
    "    def __call__(self, message):\n",
    "        self.messages.append({'role': 'user', 'content': message}) #Append to the existin array of messages\n",
    "        result = self.execute()\n",
    "        self.messages.append({\"role\": \"assistant\", \"content\": result}) #Appending the output comming from the assistant.\n",
    "        return result\n",
    "    \n",
    "    def execute(self):\n",
    "\n",
    "        completion = client.chat.completions.create(\n",
    "\n",
    "            model = \"gpt-5-nano\",\n",
    "            messages = self.messages)\n",
    "        \n",
    "        return completion.choices[0].message.content\n",
    "    \n",
    "    def get_messages(self):\n",
    "        \"\"\"Return all messages\"\"\"\n",
    "        return self.messages"
   ]
  },
  {
   "cell_type": "markdown",
   "id": "207093ef",
   "metadata": {},
   "source": [
    "### Designing a Prompt"
   ]
  },
  {
   "cell_type": "code",
   "execution_count": 36,
   "id": "6a842493",
   "metadata": {},
   "outputs": [],
   "source": [
    "prompt = \"\"\"\n",
    "You run in a loop of Thought, Action, PAUSE, Observation.\n",
    "At the end of the loop you output an Answer\n",
    "Use Thought to describe your thoughts about the question you have been asked.\n",
    "Use Action to run one of the actions available to you - then return PAUSE.\n",
    "Observation will be the result of running those actions.\n",
    "\n",
    "Your available actions are:\n",
    "\n",
    "calculate:\n",
    "e.g. calculate: 4 * 7 / 3\n",
    "Runs a calculation and returns the number - uses Python so be sure to use floating point syntax if necessary\n",
    "\n",
    "average_dog_weight:\n",
    "e.g. average_dog_weight: Collie\n",
    "returns average weight of a dog when given the breed\n",
    "\n",
    "Example session:\n",
    "\n",
    "Question: How much does a Bulldog weigh?\n",
    "Thought: I should look the dogs weight using average_dog_weight\n",
    "Action: average_dog_weight: Bulldog\n",
    "PAUSE\n",
    "\n",
    "You will be called again with this:\n",
    "\n",
    "Observation: A Bulldog weights 51 lbs\n",
    "\n",
    "You then output:\n",
    "\n",
    "Answer: A bulldog weights 51 lbs\n",
    "\"\"\".strip()"
   ]
  },
  {
   "cell_type": "code",
   "execution_count": 37,
   "id": "c86aa425",
   "metadata": {},
   "outputs": [],
   "source": [
    "def calculate(what):\n",
    "    return eval(what)\n",
    "\n",
    "def average_dog_weight(name):\n",
    "    if name in \"Scottish Terrier\": \n",
    "        return(\"Scottish Terriers average 20 lbs\")\n",
    "    elif name in \"Border Collie\":\n",
    "        return(\"a Border Collies average weight is 37 lbs\")\n",
    "    elif name in \"Toy Poodle\":\n",
    "        return(\"a toy poodles average weight is 7 lbs\")\n",
    "    else:\n",
    "        return(\"An average dog weights 50 lbs\")\n",
    "\n",
    "known_actions = {\n",
    "    \"calculate\": calculate,\n",
    "    \"average_dog_weight\": average_dog_weight\n",
    "}"
   ]
  },
  {
   "cell_type": "code",
   "execution_count": null,
   "id": "62f1b626",
   "metadata": {},
   "outputs": [],
   "source": [
    "#Here we define our agent\n",
    "abot = Agent(prompt) #Using the class Init"
   ]
  },
  {
   "cell_type": "code",
   "execution_count": 39,
   "id": "088a906b",
   "metadata": {},
   "outputs": [
    {
     "name": "stdout",
     "output_type": "stream",
     "text": [
      "Thought: I will fetch the average weight for a Toy Poodle from the dog weight database.\n",
      "Action: average_dog_weight: Toy Poodle\n",
      "PAUSE\n"
     ]
    }
   ],
   "source": [
    "result = abot(\"how much does a toy poodle weigh?\") #It uses the class call\n",
    "print(result)"
   ]
  },
  {
   "cell_type": "code",
   "execution_count": 40,
   "id": "54cdf87a",
   "metadata": {},
   "outputs": [
    {
     "data": {
      "text/plain": [
       "'a toy poodles average weight is 7 lbs'"
      ]
     },
     "execution_count": 40,
     "metadata": {},
     "output_type": "execute_result"
    }
   ],
   "source": [
    "result = average_dog_weight('Toy Poodle')\n",
    "result"
   ]
  },
  {
   "cell_type": "code",
   "execution_count": 42,
   "id": "37a8266d",
   "metadata": {},
   "outputs": [
    {
     "data": {
      "text/plain": [
       "'Observation: a toy poodles average weight is 7 lbs'"
      ]
     },
     "execution_count": 42,
     "metadata": {},
     "output_type": "execute_result"
    }
   ],
   "source": [
    "# A continuation of the prompt\n",
    "next_prompt = \"Observation: {}\".format(result)\n",
    "next_prompt"
   ]
  },
  {
   "cell_type": "code",
   "execution_count": 43,
   "id": "3bb0edf5",
   "metadata": {},
   "outputs": [
    {
     "data": {
      "text/plain": [
       "'Answer: A toy poodle weighs 7 lbs'"
      ]
     },
     "execution_count": 43,
     "metadata": {},
     "output_type": "execute_result"
    }
   ],
   "source": [
    "abot(next_prompt)"
   ]
  },
  {
   "cell_type": "code",
   "execution_count": 44,
   "id": "19f034cc",
   "metadata": {},
   "outputs": [
    {
     "data": {
      "text/plain": [
       "[{'role': 'system',\n",
       "  'content': 'You run in a loop of Thought, Action, PAUSE, Observation.\\nAt the end of the loop you output an Answer\\nUse Thought to describe your thoughts about the question you have been asked.\\nUse Action to run one of the actions available to you - then return PAUSE.\\nObservation will be the result of running those actions.\\n\\nYour available actions are:\\n\\ncalculate:\\ne.g. calculate: 4 * 7 / 3\\nRuns a calculation and returns the number - uses Python so be sure to use floating point syntax if necessary\\n\\naverage_dog_weight:\\ne.g. average_dog_weight: Collie\\nreturns average weight of a dog when given the breed\\n\\nExample session:\\n\\nQuestion: How much does a Bulldog weigh?\\nThought: I should look the dogs weight using average_dog_weight\\nAction: average_dog_weight: Bulldog\\nPAUSE\\n\\nYou will be called again with this:\\n\\nObservation: A Bulldog weights 51 lbs\\n\\nYou then output:\\n\\nAnswer: A bulldog weights 51 lbs'},\n",
       " {'role': 'user', 'content': 'how much does a toy poodle weigh?'},\n",
       " {'role': 'assistant',\n",
       "  'content': 'Thought: I will fetch the average weight for a Toy Poodle from the dog weight database.\\nAction: average_dog_weight: Toy Poodle\\nPAUSE'},\n",
       " {'role': 'user',\n",
       "  'content': 'Observation: a toy poodles average weight is 7 lbs'},\n",
       " {'role': 'assistant', 'content': 'Answer: A toy poodle weighs 7 lbs'}]"
      ]
     },
     "execution_count": 44,
     "metadata": {},
     "output_type": "execute_result"
    }
   ],
   "source": [
    "abot.messages"
   ]
  }
 ],
 "metadata": {
  "kernelspec": {
   "display_name": "agent_venv",
   "language": "python",
   "name": "python3"
  },
  "language_info": {
   "codemirror_mode": {
    "name": "ipython",
    "version": 3
   },
   "file_extension": ".py",
   "mimetype": "text/x-python",
   "name": "python",
   "nbconvert_exporter": "python",
   "pygments_lexer": "ipython3",
   "version": "3.12.2"
  }
 },
 "nbformat": 4,
 "nbformat_minor": 5
}
